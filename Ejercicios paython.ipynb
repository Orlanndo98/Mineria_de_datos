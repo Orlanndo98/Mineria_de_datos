{
 "cells": [
  {
   "cell_type": "markdown",
   "metadata": {},
   "source": [
    "Programa 1 Hola mundo"
   ]
  },
  {
   "cell_type": "code",
   "execution_count": 2,
   "metadata": {},
   "outputs": [
    {
     "name": "stdout",
     "output_type": "stream",
     "text": [
      "Hola mundo\n"
     ]
    }
   ],
   "source": [
    "print(\"Hola mundo\")"
   ]
  },
  {
   "cell_type": "markdown",
   "metadata": {},
   "source": [
    "#Ejercicio 1:"
   ]
  },
  {
   "cell_type": "markdown",
   "metadata": {},
   "source": [
    "Realizar una varible con tu matricula y relizar una secuencia de imprimir con tu nombre y tu matricula concatenados"
   ]
  },
  {
   "cell_type": "code",
   "execution_count": 11,
   "metadata": {},
   "outputs": [
    {
     "name": "stdout",
     "output_type": "stream",
     "text": [
      "1668598 Orlando Torres Estrada\n"
     ]
    }
   ],
   "source": [
    "Datos = \"1668598 Orlando Torres Estrada\"\n",
    "print(Datos)"
   ]
  },
  {
   "cell_type": "code",
   "execution_count": 7,
   "metadata": {},
   "outputs": [
    {
     "name": "stdout",
     "output_type": "stream",
     "text": [
      "1668598 Orlando Torres\n"
     ]
    }
   ],
   "source": [
    "Nombre = \"Orlando Torres\"\n",
    "Matricula = \"1668598 \"\n",
    "Datos = Matricula + Nombre\n",
    "print(Datos)"
   ]
  },
  {
   "cell_type": "markdown",
   "metadata": {},
   "source": [
    "Input del usuario:"
   ]
  },
  {
   "cell_type": "code",
   "execution_count": 10,
   "metadata": {},
   "outputs": [
    {
     "name": "stdout",
     "output_type": "stream",
     "text": [
      "intoduce un numero:1\n",
      "intoduce otro numero:3\n",
      "primer numero: 1\n",
      "segundo numero: 3\n"
     ]
    }
   ],
   "source": [
    "a1 = int(input(\"intoduce un numero:\"))\n",
    "b1 = int(input(\"intoduce otro numero:\"))\n",
    "\n",
    "print(\"primer numero:\", a1)\n",
    "print(\"segundo numero:\", b1)"
   ]
  },
  {
   "cell_type": "markdown",
   "metadata": {},
   "source": [
    "#Ejercicio 2:"
   ]
  },
  {
   "cell_type": "markdown",
   "metadata": {},
   "source": [
    "Pidiendo el input del usuario pide 2 numeros y crear una pequeña calculadora con los operadores basicos de suma, resta, multiplicacion, division y exponente"
   ]
  },
  {
   "cell_type": "markdown",
   "metadata": {},
   "source": [
    "Utilizando loop de while"
   ]
  },
  {
   "cell_type": "code",
   "execution_count": 4,
   "metadata": {},
   "outputs": [
    {
     "name": "stdout",
     "output_type": "stream",
     "text": [
      "intoduce un numero:10\n",
      "intoduce otro numero:2\n",
      "1\n",
      "suma: 12\n",
      "2\n",
      "resta: 8\n",
      "3\n",
      "multiplicacion: 20\n",
      "4\n",
      "division: 5.0\n",
      "5\n",
      "Exponencial: 100\n"
     ]
    }
   ],
   "source": [
    "a = int(input(\"intoduce un numero:\"))\n",
    "b = int(input(\"intoduce otro numero:\"))\n",
    "i = 1\n",
    "while i <= 5:\n",
    "    print (i)\n",
    "    if  i == 1:\n",
    "        print (\"suma:\",a+b)\n",
    "    if  i == 2:\n",
    "        print (\"resta:\",a-b)\n",
    "    if  i == 3:\n",
    "        print (\"multiplicacion:\",a*b)\n",
    "    if  i == 4:\n",
    "        print (\"division:\",a/b)\n",
    "    if  i == 5:\n",
    "        print (\"Exponencial:\",a**b)\n",
    "    i=i+1"
   ]
  },
  {
   "cell_type": "markdown",
   "metadata": {},
   "source": [
    "\n",
    "Ejercicio 3:\n",
    "\n",
    "Con loop while o for, realiza una lista de 10 numeros multiplos de 3, y después realiza una función de loop que sume todos los números dentro del arreglo.\n"
   ]
  },
  {
   "cell_type": "code",
   "execution_count": 28,
   "metadata": {},
   "outputs": [
    {
     "name": "stdout",
     "output_type": "stream",
     "text": [
      "[0, 3, 6, 9, 12, 15, 18, 21, 24, 27, 30]\n"
     ]
    }
   ],
   "source": [
    "n = 11\n",
    "m = 3\n",
    "A = []\n",
    "for i in range (0,n):\n",
    " A.append(i*m)\n",
    "print (A)\n"
   ]
  },
  {
   "cell_type": "code",
   "execution_count": 29,
   "metadata": {},
   "outputs": [
    {
     "name": "stdout",
     "output_type": "stream",
     "text": [
      "165\n"
     ]
    }
   ],
   "source": [
    "x = 0\n",
    "for i in range(0,11):\n",
    "    x = x + A[i]\n",
    "print(x)\n"
   ]
  },
  {
   "cell_type": "markdown",
   "metadata": {},
   "source": [
    "\n",
    "Ejercicio 4\n",
    "\n",
    "    Con una función de if else, revisar si un número es par o es impar.\n",
    "    Con una función de if else, revisar si un número es primo o no.\n",
    "\n",
    "Uso de funciones en python:\n"
   ]
  },
  {
   "cell_type": "code",
   "execution_count": 37,
   "metadata": {},
   "outputs": [
    {
     "name": "stdout",
     "output_type": "stream",
     "text": [
      "intoduce un numero: 2\n"
     ]
    },
    {
     "data": {
      "text/plain": [
       "'EL NUMERO ES PAR'"
      ]
     },
     "execution_count": 37,
     "metadata": {},
     "output_type": "execute_result"
    }
   ],
   "source": [
    "x = 0\n",
    "def ifpar(x):\n",
    "    x = int(input(\"intoduce un numero: \"))\n",
    "    if(x%2 == 0):\n",
    "        y = 'EL NUMERO ES PAR'\n",
    "    else:\n",
    "        y = 'EL NUMERO ES IMPAR'\n",
    "    \n",
    "    return y\n",
    "ifpar(x)\n",
    "    "
   ]
  },
  {
   "cell_type": "markdown",
   "metadata": {},
   "source": [
    "\n",
    "Ejercicio 5\n",
    "\n",
    "Utilizando diferentes clases en python, crea una calculadora con los operadores básicos de suma, resta, multiplicación, división, y exponente.\n",
    "\n",
    "Funciones matemáticas en la librería de math en python:\n"
   ]
  },
  {
   "cell_type": "code",
   "execution_count": 39,
   "metadata": {},
   "outputs": [
    {
     "name": "stdout",
     "output_type": "stream",
     "text": [
      "0\n",
      "3\n",
      "9\n",
      "18\n",
      "30\n",
      "45\n",
      "63\n",
      "84\n",
      "108\n",
      "135\n",
      "165\n"
     ]
    },
    {
     "data": {
      "text/plain": [
       "165"
      ]
     },
     "execution_count": 39,
     "metadata": {},
     "output_type": "execute_result"
    }
   ],
   "source": [
    "x = 0\n",
    "def Suma(x):\n",
    "    for i in range(0,11):\n",
    "        x = x + A[i]    \n",
    "        print(x)\n",
    "    return x\n",
    "Suma(x)\n",
    "   \n"
   ]
  },
  {
   "cell_type": "code",
   "execution_count": 40,
   "metadata": {},
   "outputs": [
    {
     "name": "stdout",
     "output_type": "stream",
     "text": [
      "0\n",
      "-3\n",
      "-9\n",
      "-18\n",
      "-30\n",
      "-45\n",
      "-63\n",
      "-84\n",
      "-108\n",
      "-135\n",
      "-165\n"
     ]
    },
    {
     "data": {
      "text/plain": [
       "-165"
      ]
     },
     "execution_count": 40,
     "metadata": {},
     "output_type": "execute_result"
    }
   ],
   "source": [
    "x = 0\n",
    "def Resta(x):\n",
    "    for i in range(0,11):\n",
    "        x = x - A[i]    \n",
    "        print(x)\n",
    "    return x\n",
    "Resta(x)"
   ]
  },
  {
   "cell_type": "code",
   "execution_count": 43,
   "metadata": {},
   "outputs": [
    {
     "name": "stdout",
     "output_type": "stream",
     "text": [
      "2\n",
      "4\n",
      "12\n",
      "48\n",
      "240\n",
      "1440\n",
      "10080\n",
      "80640\n",
      "725760\n",
      "7257600\n"
     ]
    },
    {
     "data": {
      "text/plain": [
       "7257600"
      ]
     },
     "execution_count": 43,
     "metadata": {},
     "output_type": "execute_result"
    }
   ],
   "source": [
    "x = 2\n",
    "def Multi(x):\n",
    "    for i in range(1,11):\n",
    "        x = x * i    \n",
    "        print(x)\n",
    "    return x\n",
    "Multi(x)"
   ]
  },
  {
   "cell_type": "code",
   "execution_count": 45,
   "metadata": {},
   "outputs": [
    {
     "name": "stdout",
     "output_type": "stream",
     "text": [
      "2.0\n",
      "1.0\n",
      "0.3333333333333333\n",
      "0.08333333333333333\n",
      "0.016666666666666666\n",
      "0.002777777777777778\n",
      "0.0003968253968253968\n",
      "4.96031746031746e-05\n",
      "5.5114638447971785e-06\n",
      "5.511463844797179e-07\n"
     ]
    },
    {
     "data": {
      "text/plain": [
       "5.511463844797179e-07"
      ]
     },
     "execution_count": 45,
     "metadata": {},
     "output_type": "execute_result"
    }
   ],
   "source": [
    "x = 2\n",
    "def Div(x):\n",
    "    for i in range(1,11):\n",
    "        x = x / i    \n",
    "        print(x)\n",
    "    return x\n",
    "Div(x)"
   ]
  },
  {
   "cell_type": "code",
   "execution_count": null,
   "metadata": {},
   "outputs": [],
   "source": []
  },
  {
   "cell_type": "code",
   "execution_count": null,
   "metadata": {},
   "outputs": [],
   "source": []
  },
  {
   "cell_type": "code",
   "execution_count": null,
   "metadata": {},
   "outputs": [],
   "source": []
  }
 ],
 "metadata": {
  "kernelspec": {
   "display_name": "Python 3",
   "language": "python",
   "name": "python3"
  },
  "language_info": {
   "codemirror_mode": {
    "name": "ipython",
    "version": 3
   },
   "file_extension": ".py",
   "mimetype": "text/x-python",
   "name": "python",
   "nbconvert_exporter": "python",
   "pygments_lexer": "ipython3",
   "version": "3.8.3"
  }
 },
 "nbformat": 4,
 "nbformat_minor": 4
}
